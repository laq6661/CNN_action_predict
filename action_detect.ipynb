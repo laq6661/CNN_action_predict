{
 "cells": [
  {
   "cell_type": "code",
   "execution_count": 0,
   "metadata": {
    "colab": {
     "base_uri": "https://localhost:8080/",
     "height": 34
    },
    "colab_type": "code",
    "id": "S2DbBWwluYC1",
    "outputId": "9b8faf79-7f10-4d24-df81-b0374b988652"
   },
   "outputs": [
    {
     "name": "stderr",
     "output_type": "stream",
     "text": [
      "Using TensorFlow backend.\n"
     ]
    }
   ],
   "source": [
    "from sklearn.preprocessing import LabelEncoder\n",
    "from sklearn.model_selection import train_test_split\n",
    "from sklearn.metrics import classification_report\n",
    "from keras.preprocessing.image import img_to_array\n",
    "from keras.utils import np_utils\n",
    "from imutils import paths\n",
    "import matplotlib.pyplot as plt\n",
    "import numpy as np\n",
    "import imutils\n",
    "import cv2\n",
    "import os\n",
    "\n",
    "from keras.models import Sequential\n",
    "from keras.layers.convolutional import Conv2D\n",
    "from keras.layers.convolutional import MaxPooling2D\n",
    "from keras.layers.core import Activation\n",
    "from keras.layers.core import Flatten\n",
    "from keras.layers.core import Dense\n",
    "from google.colab import drive"
   ]
  },
  {
   "cell_type": "markdown",
   "metadata": {
    "colab_type": "text",
    "id": "KfPHHDVxyi9y"
   },
   "source": [
    "读取保存的data和label"
   ]
  },
  {
   "cell_type": "code",
   "execution_count": 0,
   "metadata": {
    "colab": {
     "base_uri": "https://localhost:8080/",
     "height": 69
    },
    "colab_type": "code",
    "id": "NLo1oKShgkOr",
    "outputId": "c22c42ac-b34e-4848-c526-1312035ade43"
   },
   "outputs": [
    {
     "name": "stdout",
     "output_type": "stream",
     "text": [
      "['0' '0' '0' ... '7' '7' '7']\n",
      "(15200,)\n",
      "(15200, 48, 64, 3)\n"
     ]
    }
   ],
   "source": [
    "labels=np.load('/content/drive/My Drive/data_model/label_10.npy')\n",
    "print(labels)\n",
    "print(np.shape(labels))\n",
    "\n",
    "data = np.load('/content/drive/My Drive/data_model/48_64_3.npy')\n",
    "print(np.shape(data))"
   ]
  },
  {
   "cell_type": "code",
   "execution_count": 0,
   "metadata": {
    "colab": {
     "base_uri": "https://localhost:8080/",
     "height": 279
    },
    "colab_type": "code",
    "id": "9FOWyo4tNeqy",
    "outputId": "bcb894e2-77ad-42e3-edf8-59ba0f274235"
   },
   "outputs": [
    {
     "name": "stdout",
     "output_type": "stream",
     "text": [
      "number of  0 data is: 1930\n",
      "number of  1 data is: 1900\n",
      "number of  2 data is: 1900\n",
      "number of  3 data is: 1896\n",
      "number of  4 data is: 1892\n",
      "number of  5 data is: 1882\n",
      "number of  6 data is: 1900\n",
      "number of  7 data is: 1900\n",
      "[[1. 0. 0. ... 0. 0. 0.]\n",
      " [1. 0. 0. ... 0. 0. 0.]\n",
      " [1. 0. 0. ... 0. 0. 0.]\n",
      " ...\n",
      " [0. 0. 0. ... 0. 0. 1.]\n",
      " [0. 0. 0. ... 0. 0. 1.]\n",
      " [0. 0. 0. ... 0. 0. 1.]]\n"
     ]
    }
   ],
   "source": [
    "data = np.array(data, dtype= \"float\") / 255.0\n",
    "labels = np.array(labels)\n",
    "for a in range(8):\n",
    "  print(\"number of \",a,\"data is:\",list(labels).count(str(a)))\n",
    "\n",
    "# 对label进行one-hot编码\n",
    "le = LabelEncoder().fit(labels)   # LabelEncoder可以将标签分配一个0—n_classes-1之间的编码 \n",
    "\n",
    "# transform用来标准化，将labels中'not_smiling'和‘smiling’的数据转换成0和1的形式\n",
    "labels = np_utils.to_categorical(le.transform(labels), 8)  # 2是num_class表示输出的是2列数据的意思\n",
    "print(labels)\n"
   ]
  },
  {
   "cell_type": "markdown",
   "metadata": {
    "colab_type": "text",
    "id": "ssdl-nLZ0vxd"
   },
   "source": [
    "简单随机8/2分割数据集"
   ]
  },
  {
   "cell_type": "code",
   "execution_count": 0,
   "metadata": {
    "colab": {},
    "colab_type": "code",
    "id": "k5Qrmtczm8qf"
   },
   "outputs": [],
   "source": [
    "(trainX, testX, trainY, testY) = train_test_split(data, labels, test_size = 0.20, \n",
    "                                                 stratify = labels, random_state = 42)"
   ]
  },
  {
   "cell_type": "markdown",
   "metadata": {
    "colab_type": "text",
    "id": "e500u63V052k"
   },
   "source": []
  },
  {
   "cell_type": "markdown",
   "metadata": {
    "colab_type": "text",
    "id": "7GUaLutU7dzt"
   },
   "source": [
    "train，test数据集形状测试"
   ]
  },
  {
   "cell_type": "code",
   "execution_count": 0,
   "metadata": {
    "colab": {
     "base_uri": "https://localhost:8080/",
     "height": 332
    },
    "colab_type": "code",
    "id": "dGeIXqvW1wUY",
    "outputId": "08bb4a4d-7622-4423-f077-ba20d8410a81"
   },
   "outputs": [
    {
     "name": "stdout",
     "output_type": "stream",
     "text": [
      "4\n",
      "[0.63137255 0.47058824 0.37254902]\n",
      "(12160, 8)\n",
      "[[0. 0. 0. ... 1. 0. 0.]\n",
      " [0. 1. 0. ... 0. 0. 0.]\n",
      " [0. 0. 1. ... 0. 0. 0.]\n",
      " ...\n",
      " [0. 0. 0. ... 0. 1. 0.]\n",
      " [0. 0. 0. ... 0. 0. 1.]\n",
      " [1. 0. 0. ... 0. 0. 0.]]\n",
      "(3040, 48, 64, 3)\n",
      "[[1. 0. 0. ... 0. 0. 0.]\n",
      " [0. 0. 0. ... 0. 1. 0.]\n",
      " [0. 0. 1. ... 0. 0. 0.]\n",
      " ...\n",
      " [0. 0. 0. ... 0. 0. 0.]\n",
      " [0. 0. 0. ... 0. 1. 0.]\n",
      " [0. 0. 1. ... 0. 0. 0.]]\n"
     ]
    }
   ],
   "source": [
    "print(trainX.ndim)\n",
    "print(trainX[0,0,0,:])\n",
    "print(np.shape(trainY))\n",
    "print(trainY)\n",
    "print(np.shape(testX))\n",
    "print(testY)"
   ]
  },
  {
   "cell_type": "markdown",
   "metadata": {},
   "source": [
    "定义CNN网络"
   ]
  },
  {
   "cell_type": "code",
   "execution_count": 0,
   "metadata": {
    "colab": {
     "base_uri": "https://localhost:8080/",
     "height": 177
    },
    "colab_type": "code",
    "id": "Nof2WJolnCJy",
    "outputId": "db808bcd-5e14-4d24-9fd9-68a51ab0b727"
   },
   "outputs": [
    {
     "name": "stdout",
     "output_type": "stream",
     "text": [
      "WARNING:tensorflow:From /usr/local/lib/python3.6/dist-packages/keras/backend/tensorflow_backend.py:66: The name tf.get_default_graph is deprecated. Please use tf.compat.v1.get_default_graph instead.\n",
      "\n",
      "WARNING:tensorflow:From /usr/local/lib/python3.6/dist-packages/keras/backend/tensorflow_backend.py:541: The name tf.placeholder is deprecated. Please use tf.compat.v1.placeholder instead.\n",
      "\n",
      "WARNING:tensorflow:From /usr/local/lib/python3.6/dist-packages/keras/backend/tensorflow_backend.py:4432: The name tf.random_uniform is deprecated. Please use tf.random.uniform instead.\n",
      "\n",
      "WARNING:tensorflow:From /usr/local/lib/python3.6/dist-packages/keras/backend/tensorflow_backend.py:4267: The name tf.nn.max_pool is deprecated. Please use tf.nn.max_pool2d instead.\n",
      "\n"
     ]
    }
   ],
   "source": [
    "model = Sequential()\n",
    "model.add(Conv2D(input_shape=(48,64,3),kernel_size=(5,5),filters=20,activation='relu'))\n",
    "model.add(MaxPooling2D(pool_size=(2,2),strides=2,padding='same'))\n",
    "model.add(Conv2D(kernel_size=(5, 5), filters=50,  activation='relu', padding='same'))\n",
    "model.add(MaxPooling2D(pool_size=(2,2), strides=2, padding='same'))\n",
    "model.add(Flatten())\n",
    "model.add(Dense(500, activation='relu'))\n",
    "model.add(Dense(8, activation='softmax'))"
   ]
  },
  {
   "cell_type": "code",
   "execution_count": 0,
   "metadata": {
    "colab": {
     "base_uri": "https://localhost:8080/",
     "height": 737
    },
    "colab_type": "code",
    "id": "Xy4hfAHavvcs",
    "outputId": "952a2e73-0a11-4752-b670-4c8cca32ba81"
   },
   "outputs": [
    {
     "name": "stdout",
     "output_type": "stream",
     "text": [
      "WARNING:tensorflow:From /usr/local/lib/python3.6/dist-packages/keras/optimizers.py:793: The name tf.train.Optimizer is deprecated. Please use tf.compat.v1.train.Optimizer instead.\n",
      "\n",
      "WARNING:tensorflow:From /usr/local/lib/python3.6/dist-packages/keras/backend/tensorflow_backend.py:3657: The name tf.log is deprecated. Please use tf.math.log instead.\n",
      "\n",
      "WARNING:tensorflow:From /usr/local/lib/python3.6/dist-packages/tensorflow/python/ops/nn_impl.py:180: add_dispatch_support.<locals>.wrapper (from tensorflow.python.ops.array_ops) is deprecated and will be removed in a future version.\n",
      "Instructions for updating:\n",
      "Use tf.where in 2.0, which has the same broadcast rule as np.where\n",
      "WARNING:tensorflow:From /usr/local/lib/python3.6/dist-packages/keras/backend/tensorflow_backend.py:1033: The name tf.assign_add is deprecated. Please use tf.compat.v1.assign_add instead.\n",
      "\n",
      "Train on 38907 samples, validate on 9727 samples\n",
      "Epoch 1/15\n",
      "38907/38907 [==============================] - 22s 567us/step - loss: 0.1939 - acc: 0.9283 - val_loss: 0.1299 - val_acc: 0.9500\n",
      "Epoch 2/15\n",
      "38907/38907 [==============================] - 14s 368us/step - loss: 0.1057 - acc: 0.9601 - val_loss: 0.1003 - val_acc: 0.9616\n",
      "Epoch 3/15\n",
      "38907/38907 [==============================] - 14s 368us/step - loss: 0.0839 - acc: 0.9677 - val_loss: 0.0832 - val_acc: 0.9683\n",
      "Epoch 4/15\n",
      "38907/38907 [==============================] - 14s 367us/step - loss: 0.0727 - acc: 0.9715 - val_loss: 0.0709 - val_acc: 0.9722\n",
      "Epoch 5/15\n",
      "38907/38907 [==============================] - 14s 367us/step - loss: 0.0675 - acc: 0.9732 - val_loss: 0.0682 - val_acc: 0.9723\n",
      "Epoch 6/15\n",
      "38907/38907 [==============================] - 15s 376us/step - loss: 0.0612 - acc: 0.9756 - val_loss: 0.0613 - val_acc: 0.9759\n",
      "Epoch 7/15\n",
      "38907/38907 [==============================] - 14s 366us/step - loss: 0.0557 - acc: 0.9778 - val_loss: 0.0616 - val_acc: 0.9747\n",
      "Epoch 8/15\n",
      "38907/38907 [==============================] - 14s 368us/step - loss: 0.0505 - acc: 0.9801 - val_loss: 0.0551 - val_acc: 0.9786\n",
      "Epoch 9/15\n",
      "38907/38907 [==============================] - 14s 368us/step - loss: 0.0463 - acc: 0.9815 - val_loss: 0.0518 - val_acc: 0.9794\n",
      "Epoch 10/15\n",
      "38907/38907 [==============================] - 14s 367us/step - loss: 0.0398 - acc: 0.9847 - val_loss: 0.0433 - val_acc: 0.9833\n",
      "Epoch 11/15\n",
      "38907/38907 [==============================] - 14s 368us/step - loss: 0.0348 - acc: 0.9867 - val_loss: 0.0422 - val_acc: 0.9842\n",
      "Epoch 12/15\n",
      "38907/38907 [==============================] - 14s 370us/step - loss: 0.0318 - acc: 0.9880 - val_loss: 0.0361 - val_acc: 0.9868\n",
      "Epoch 13/15\n",
      "38907/38907 [==============================] - 14s 370us/step - loss: 0.0266 - acc: 0.9901 - val_loss: 0.0330 - val_acc: 0.9876\n",
      "Epoch 14/15\n",
      "38907/38907 [==============================] - 14s 369us/step - loss: 0.0233 - acc: 0.9916 - val_loss: 0.0279 - val_acc: 0.9903\n",
      "Epoch 15/15\n",
      "38907/38907 [==============================] - 14s 367us/step - loss: 0.0209 - acc: 0.9924 - val_loss: 0.0328 - val_acc: 0.9878\n"
     ]
    }
   ],
   "source": [
    "model.compile(loss = \"binary_crossentropy\", optimizer = \"adam\", metrics = [\"accuracy\"])\n",
    "\n",
    "H = model.fit(trainX, trainY, validation_data = (testX, testY),\n",
    "              batch_size = 64, epochs = 15, verbose = 1)  #verbose = 1显示进度条"
   ]
  },
  {
   "cell_type": "markdown",
   "metadata": {},
   "source": [
    "可视化各种动作情况下的精度，f值等数据并保存训练好的model"
   ]
  },
  {
   "cell_type": "code",
   "execution_count": 0,
   "metadata": {
    "colab": {
     "base_uri": "https://localhost:8080/",
     "height": 314
    },
    "colab_type": "code",
    "id": "sraS5YJYxW-U",
    "outputId": "22e4a9b8-27c6-42f3-b364-743392b0262f"
   },
   "outputs": [
    {
     "name": "stdout",
     "output_type": "stream",
     "text": [
      "(9727, 8)\n",
      "[1 0 7 ... 6 1 5]\n",
      "              precision    recall  f1-score   support\n",
      "\n",
      "           0       0.94      0.93      0.94      1235\n",
      "           1       0.85      0.96      0.91      1216\n",
      "           2       0.98      0.92      0.95      1216\n",
      "           3       0.95      0.93      0.94      1214\n",
      "           4       0.98      0.93      0.96      1210\n",
      "           5       0.92      0.94      0.93      1204\n",
      "           6       1.00      1.00      1.00      1216\n",
      "           7       1.00      1.00      1.00      1216\n",
      "\n",
      "    accuracy                           0.95      9727\n",
      "   macro avg       0.95      0.95      0.95      9727\n",
      "weighted avg       0.95      0.95      0.95      9727\n",
      "\n"
     ]
    }
   ],
   "source": [
    "predictions = model.predict(testX, batch_size = 64)\n",
    "print(np.shape(predictions))\n",
    "print(predictions.argmax(axis =1))\n",
    "#0列1行返回位置所以合起来就是3040行中0-8预测值最大的是哪个\n",
    "\n",
    "print(classification_report(testY.argmax(axis = 1), predictions.argmax(axis = 1),\n",
    "                           target_names = le.classes_)) \n",
    "#https://blog.csdn.net/akadiao/article/details/78788864\n",
    "model.save(\"/content/drive/My Drive/data_model/act_CNN_pro.hdf5\")"
   ]
  },
  {
   "cell_type": "markdown",
   "metadata": {},
   "source": [
    "可视化epoch回数和loss，accuracy间的关系"
   ]
  },
  {
   "cell_type": "code",
   "execution_count": 0,
   "metadata": {
    "colab": {
     "base_uri": "https://localhost:8080/",
     "height": 299
    },
    "colab_type": "code",
    "id": "7cF0EU4wxzGj",
    "outputId": "fde89b89-5ded-4c2d-facd-a15e08b1391e"
   },
   "outputs": [
    {
     "data": {
      "image/png": "[encoded data removed]",
      "text/plain": [
       "<Figure size 432x288 with 1 Axes>"
      ]
     },
     "metadata": {
      "tags": []
     },
     "output_type": "display_data"
    }
   ],
   "source": [
    "plt.style.use(\"ggplot\")\n",
    "plt.figure()\n",
    "plt.plot(np.arange(0, 15), H.history[\"loss\"], label = \"train_loss\")\n",
    "plt.plot(np.arange(0, 15), H.history[\"val_loss\"], label = \"val_loss\")\n",
    "plt.plot(np.arange(0, 15), H.history[\"acc\"], label = \"acc\")\n",
    "plt.plot(np.arange(0, 15), H.history[\"val_acc\"], label = \"val_acc\")\n",
    "plt.title(\"Training Loss and Accuracy\")\n",
    "plt.xlabel(\"Epoch\")\n",
    "plt.ylabel(\"Loss/Accuracy\")\n",
    "plt.legend()\n",
    "plt.show()"
   ]
  }
 ],
 "metadata": {
  "accelerator": "GPU",
  "colab": {
   "name": "action_detect.ipynb",
   "provenance": []
  },
  "kernelspec": {
   "display_name": "Python 3",
   "language": "python",
   "name": "python3"
  },
  "language_info": {
   "codemirror_mode": {
    "name": "ipython",
    "version": 3
   },
   "file_extension": ".py",
   "mimetype": "text/x-python",
   "name": "python",
   "nbconvert_exporter": "python",
   "pygments_lexer": "ipython3",
   "version": "3.7.2"
  }
 },
 "nbformat": 4,
 "nbformat_minor": 1
}
