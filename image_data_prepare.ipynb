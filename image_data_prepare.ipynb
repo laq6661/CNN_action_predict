{
 "cells": [
  {
   "cell_type": "markdown",
   "metadata": {},
   "source": [
    "# 此部分主要是将视频数据集分割为图片数据集，并将视频label赋值给图片数据文件夹。最后制作data和label并保存为npy文件\n",
    "\n",
    "由于colab的IO太慢这一部分建议在本地运行。"
   ]
  },
  {
   "cell_type": "code",
   "execution_count": null,
   "metadata": {},
   "outputs": [],
   "source": [
    "import cv2\n",
    "import os.path\n",
    "from pathlib import Path\n",
    "#filepath = '/content/drive/My Drive/20190130-1'\n",
    "filepath = '/Users/laq66/Desktop/datav'\n",
    "pathDir = os.listdir(filepath)"
   ]
  },
  {
   "cell_type": "markdown",
   "metadata": {},
   "source": [
    "# 这里我去除了图片集末尾的一些几乎相同的帧，来减少一部分无用数据"
   ]
  },
  {
   "cell_type": "code",
   "execution_count": null,
   "metadata": {},
   "outputs": [],
   "source": [
    "a=1\n",
    "for allDir in pathDir:\n",
    "#   videopath =r\"/content/drive/My Drive/20190130-1/\"+allDir\n",
    "  videopath =r\"/Users/laq66/Desktop/datav/\"+allDir\n",
    "  allDir = allDir.split('.')[0]\n",
    "#   imagefile = r\"/content/drive/My Drive/datave2/\"+allDir\n",
    "  imagefile = r\"/Users/laq66/Desktop/datapro1/\"+allDir\n",
    "  os.mkdir(imagefile)\n",
    "  print(imagefile)\n",
    "  vc = cv2.VideoCapture(videopath)\n",
    "  c=1\n",
    "  a=1\n",
    "  if vc.isOpened():\n",
    "    rval,frame = vc.read()\n",
    "  else:\n",
    "    rval = False\n",
    "  timeF = 2\n",
    "  while rval:\n",
    "    rval,frame = vc.read()\n",
    "    if(c%timeF ==0):\n",
    "      cv2.imwrite(imagefile+'/'+str(a)+'pro1'+'.jpg',frame)\n",
    "      d_file = Path(imagefile +'/'+'33pro1'+'.jpg')\n",
    "      if d_file.is_file():\n",
    "        os.remove(d_file)\n",
    "        print(d_file)\n",
    "      d2_file =  Path(imagefile +'/'+'34pro1'+'.jpg')\n",
    "      if d2_file.is_file():\n",
    "        os.remove(d2_file)\n",
    "        print(d2_file)\n",
    "      d3_file = Path(imagefile +'/'+'35pro1'+'.jpg')\n",
    "      if d3_file.is_file():\n",
    "        os.remove(d3_file)\n",
    "        print(d3_file)\n",
    "      d4_file = Path(imagefile +'/'+'36pro1'+'.jpg')\n",
    "      if d4_file.is_file():\n",
    "        os.remove(d4_file)\n",
    "        print(d4_file)\n",
    "      d5_file = Path(imagefile +'/'+'37pro1'+'.jpg')\n",
    "      if d5_file.is_file():\n",
    "        os.remove(d5_file)\n",
    "        print(d5_file)\n",
    "     \n",
    "      a=a+1\n",
    "    c = c+1\n",
    "    cv2.waitKey(1)\n",
    "  vc.release()"
   ]
  },
  {
   "cell_type": "markdown",
   "metadata": {},
   "source": [
    "# 接下来将图片数据缩小转换为ndarry数据并保存，用于接下来的训练，可以选择是否灰度化或保留三通道。"
   ]
  },
  {
   "cell_type": "code",
   "execution_count": null,
   "metadata": {},
   "outputs": [],
   "source": [
    "import cv2\n",
    "import os\n",
    "import numpy as np\n",
    "from imutils import paths\n",
    "import imutils\n",
    "from keras.preprocessing.image import img_to_array\n",
    "a=1\n",
    "data=[]\n",
    "for imagePath in sorted(list(paths.list_images(\"/Users/laq66/Desktop/datapro1\"))):\n",
    "    image = cv2.imread(imagePath)\n",
    "    #image = cv2.cvtColor(image, cv2.COLOR_BGR2GRAY)   # 转换成灰度图像\n",
    "    image = imutils.resize(image, height=48,width=64)  \n",
    "    #image = cv2.resize(image, (120,160), interpolation=cv2.INTER_CUBIC)\n",
    "    image = img_to_array(image)   #使用Keras的img_to_array转换成浮点型和（28*28*1），便于接下来神经网络学习\n",
    "    data.append(image)\n",
    "    a+=1\n",
    "    #print(\"shape\",np.shape(image))\n",
    "    print(\"already done:\",a,\"/15200 data\")\n",
    "    print(imagePath)\n",
    "      \n",
    "print(len(data))\n",
    "m=np.array(data)\n",
    "np.save('C:/Users/laq66/Desktop/data_model/48_64_3_pro.npy',m)"
   ]
  },
  {
   "cell_type": "markdown",
   "metadata": {},
   "source": [
    "# 最后制作label同样保存为npy文件"
   ]
  },
  {
   "cell_type": "code",
   "execution_count": null,
   "metadata": {},
   "outputs": [],
   "source": [
    "import os.path\n",
    "from imutils import paths\n",
    "import numpy as np\n",
    "import os\n",
    "\n",
    "\n",
    "\n",
    "labels=[]\n",
    "for imagePath in sorted(list(paths.list_images(\"/Users/laq66/Desktop/datapro1\"))):\n",
    "    \n",
    "    label = imagePath.split(os.path.sep)[-2]\n",
    "    label = label.split('_')[-3]\n",
    "    labels.append(label)\n",
    "print(labels)\n",
    "for a in range(8):\n",
    "  print(\"number of \",a,\"data is:\",labels.count(str(a)))\n",
    "n=np.array(labels)\n",
    "np.save('/Users/laq66/Desktop/data_model/label_pro.npy',n)\n"
   ]
  }
 ],
 "metadata": {
  "kernelspec": {
   "display_name": "Python 3",
   "language": "python",
   "name": "python3"
  },
  "language_info": {
   "codemirror_mode": {
    "name": "ipython",
    "version": 3
   },
   "file_extension": ".py",
   "mimetype": "text/x-python",
   "name": "python",
   "nbconvert_exporter": "python",
   "pygments_lexer": "ipython3",
   "version": "3.7.2"
  }
 },
 "nbformat": 4,
 "nbformat_minor": 2
}
