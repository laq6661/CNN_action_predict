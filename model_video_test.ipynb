{
 "cells": [
  {
   "cell_type": "markdown",
   "metadata": {},
   "source": [
    "# 本部分主要利用之前保存好的model进行对原视频数据的预测情况进行测试"
   ]
  },
  {
   "cell_type": "code",
   "execution_count": null,
   "metadata": {},
   "outputs": [],
   "source": [
    "from keras.preprocessing.image import img_to_array\n",
    "from keras.models import load_model\n",
    "import numpy as np\n",
    "import imutils\n",
    "import cv2\n",
    "import os"
   ]
  },
  {
   "cell_type": "code",
   "execution_count": null,
   "metadata": {},
   "outputs": [],
   "source": [
    "model = load_model(\"/Users/laq66/Desktop/data_model/act_CNN_1.hdf5\")\n",
    "camera = cv2.VideoCapture(\"/Users/laq66/Desktop/data_model/1_6_0_1.mp4\")\n",
    "imagefile = r\"/Users/laq66/Desktop/data_model/resultv2\"\n",
    "count=1\n",
    "fourcc = cv2.VideoWriter_fourcc('X','V','I','D')\n",
    "out = cv2.VideoWriter('/Users/laq66/Desktop/data_model/output.avi',fourcc, 2.0, (640,480))\n"
   ]
  },
  {
   "cell_type": "markdown",
   "metadata": {},
   "source": [
    "设置的显示预测结果的阈值是0.97，小于这个值不输出预测结果。保存最后的视频，本部分是慢放的。"
   ]
  },
  {
   "cell_type": "code",
   "execution_count": null,
   "metadata": {},
   "outputs": [],
   "source": [
    "while camera.isOpened():\n",
    "    (grabbed, frame) = camera.read()\n",
    "\n",
    "    \n",
    "# grabbed和frame是read的两个返回值，grabbed是布尔类型的返回值，如果读取帧是正确的返回True，当文件读到结尾的时候返回False\n",
    "# frame是每一帧的图像，是一个三维矩阵   \n",
    "\n",
    "    frame = imutils.resize(frame, height=480,width=640) #把图像宽度重新指定为300像素\n",
    "    #gray = cv2.cvtColor(frame, cv2.COLOR_BGR2GRAY) #因为模型训练是对灰度图像处理，所以这里要转换成灰度图像\n",
    "    frame2 = frame.copy() \n",
    "    frameClone = frame.copy()    #重新克隆frame，用于接下来绘制边界框\n",
    "    frame2 = cv2.resize(frame2, (64, 48))   # 将候选区域变成28*28像素，接下来的操作都是便于roi用于CNN学习\n",
    "    frame2 = frame2.astype(\"float\") / 255.0\n",
    "    frame2 = img_to_array(frame2)\n",
    "    frame2 = np.expand_dims(frame2, axis = 0)   # 扩展数组，在最开始的位置新加一个维度，便于Keras识别\n",
    "        \n",
    "    (a,b,c,d,e,f,g,h) = model.predict(frame2)[0]    # 看概率，哪个概率大，就说明是笑还是不笑\n",
    "    labels_f={'right_hand_hook':a,'right_hand_cross':b,'left_hand_uppercut':c,'right_hand_uppercut':d\n",
    "    ,'left_kick_attack':e,'right_kick_attack':f,'turn_left':g,'turn_right':h}\n",
    "        \n",
    "    label = max(labels_f,key=labels_f.get)\n",
    "    pre = max(model.predict(frame2)[0])/sum(model.predict(frame2)[0])\n",
    "    print(pre)\n",
    "    if(pre>0.97):\n",
    "        cv2.putText(frameClone, \"result: \"+label+' pro:'+str(round(pre,3)), (20, 20), cv2.FONT_HERSHEY_SIMPLEX, \n",
    "              1, (0, 0, 255), 2)        \n",
    "    \n",
    "    else:\n",
    "        cv2.putText(frameClone, \"result: None\", (20, 20), cv2.FONT_HERSHEY_SIMPLEX, \n",
    "              1, (0, 0, 255), 2)        \n",
    "        \n",
    "    \n",
    "    count+=1\n",
    "#         cv2.rectangle(frameClone, (146, 124), (146 + 300,  + fH),\n",
    "#                      (0, 0, 255), 2)   \n",
    "    out.write(frameClone)    \n",
    "    cv2.imshow('result',frameClone)  # 展示包含label的微笑判断\n",
    "    #cv2.imwrite(imagefile+'/'+str(count)+'.jpg',frameClone)\n",
    "    \n",
    "    if cv2.waitKey(1) & 0xFF == ord(\"q\"):  # 如果 ‘q’被按下了，停止循环\n",
    "        break\n",
    "    elif grabbed == False:\n",
    "        break\n",
    "        \n",
    "camera.release()  # 清空相机\n",
    "out.release()\n",
    "cv2.destroyAllWindows()  # 关闭所有window"
   ]
  }
 ],
 "metadata": {
  "kernelspec": {
   "display_name": "Python 3",
   "language": "python",
   "name": "python3"
  },
  "language_info": {
   "codemirror_mode": {
    "name": "ipython",
    "version": 3
   },
   "file_extension": ".py",
   "mimetype": "text/x-python",
   "name": "python",
   "nbconvert_exporter": "python",
   "pygments_lexer": "ipython3",
   "version": "3.7.2"
  }
 },
 "nbformat": 4,
 "nbformat_minor": 2
}
